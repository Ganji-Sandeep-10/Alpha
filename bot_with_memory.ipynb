{
 "cells": [
  {
   "cell_type": "code",
   "execution_count": 22,
   "id": "165f6d8b",
   "metadata": {},
   "outputs": [],
   "source": [
    "from langgraph.graph import StateGraph,START,END\n",
    "from langchain_google_genai import ChatGoogleGenerativeAI\n",
    "from langgraph.graph.message import add_messages\n",
    "from langchain.schema import HumanMessage, AIMessage\n",
    "from langgraph.checkpoint.memory import MemorySaver\n",
    "from typing import Annotated,TypedDict\n",
    "from dotenv import load_dotenv\n"
   ]
  },
  {
   "cell_type": "code",
   "execution_count": 35,
   "id": "d186de05",
   "metadata": {},
   "outputs": [],
   "source": [
    "load_dotenv()\n",
    "llm = ChatGoogleGenerativeAI(model=\"gemini-2.0-flash\")"
   ]
  },
  {
   "cell_type": "code",
   "execution_count": 36,
   "id": "9ef5d086",
   "metadata": {},
   "outputs": [],
   "source": [
    "class chatState(TypedDict):\n",
    "    messages: Annotated[list,add_messages]"
   ]
  },
  {
   "cell_type": "code",
   "execution_count": 37,
   "id": "66fb0c9b",
   "metadata": {},
   "outputs": [],
   "source": [
    "def call_llm(state:chatState)-> chatState:\n",
    "    response=llm.invoke(state['messages'])\n",
    "    return {'messages':response}\n"
   ]
  },
  {
   "cell_type": "code",
   "execution_count": 38,
   "id": "b81886f1",
   "metadata": {},
   "outputs": [],
   "source": [
    "graph=StateGraph(chatState)\n",
    "\n",
    "graph.add_node('call_llm',call_llm)\n",
    "\n",
    "graph.add_edge(START,'call_llm')\n",
    "graph.add_edge('call_llm',END)\n",
    "\n",
    "memory = MemorySaver()\n",
    "bot = graph.compile(checkpointer=memory)"
   ]
  },
  {
   "cell_type": "code",
   "execution_count": 39,
   "id": "10d35916",
   "metadata": {},
   "outputs": [],
   "source": [
    "thread= {\"configurable\":{\"thread_id\":1}}"
   ]
  },
  {
   "cell_type": "code",
   "execution_count": 41,
   "id": "b5ff9e44",
   "metadata": {},
   "outputs": [
    {
     "name": "stdout",
     "output_type": "stream",
     "text": [
      "Hi Raju! It's nice to meet you. Is there anything I can help you with?\n"
     ]
    }
   ],
   "source": [
    "state: chatState = bot.invoke({\"messages\": [HumanMessage(content='haii my name is raju')]},config=thread)  \n",
    "print(state[\"messages\"][-1].content)"
   ]
  },
  {
   "cell_type": "code",
   "execution_count": 42,
   "id": "56dfeac8",
   "metadata": {},
   "outputs": [
    {
     "name": "stdout",
     "output_type": "stream",
     "text": [
      "AI: Okay, here's a joke for you:\n",
      "\n",
      "Why don't scientists trust atoms?\n",
      "\n",
      "Because they make up everything!\n",
      "AI: Your name is Raju.\n"
     ]
    }
   ],
   "source": [
    "result = bot.invoke({\"messages\": [HumanMessage(content=\"Can you tell a joke\")]}, config=thread)\n",
    "print(\"AI:\", result[\"messages\"][-1].content)\n",
    "\n",
    "result = bot.invoke({\"messages\": [HumanMessage(content=\"What is my name?\")]} , config=thread)\n",
    "print(\"AI:\", result[\"messages\"][-1].content)"
   ]
  },
  {
   "cell_type": "code",
   "execution_count": 43,
   "id": "f19e6c2c",
   "metadata": {},
   "outputs": [
    {
     "name": "stdout",
     "output_type": "stream",
     "text": [
      "AI: ## The Ubiquitous Fizz: An Essay on Coca-Cola\n",
      "\n",
      "Coca-Cola. The name itself evokes images of vibrant red, icy bubbles, and a distinctive, almost universally recognizable flavor. More than just a beverage, Coca-Cola has become a cultural icon, a symbol of American capitalism, and a constant presence in the global landscape. Its journey from a humble medicinal concoction to a multi-billion dollar empire is a testament to the power of branding, marketing, and the enduring appeal of a refreshing, albeit sugary, drink.\n",
      "\n",
      "Initially marketed as a brain tonic and headache remedy in 1886, Coca-Cola's early success was due in part to its perceived health benefits. However, its true ascent began with its strategic marketing efforts. The company understood the importance of creating a strong brand identity, crafting a distinctive logo and bottle that remain iconic to this day. By associating Coca-Cola with positive experiences, such as family gatherings, sporting events, and holidays, the company successfully ingrained itself into the fabric of everyday life.\n",
      "\n",
      "Beyond its marketing prowess, Coca-Cola's global expansion is a story of adaptability and cultural sensitivity. The company tailored its advertising campaigns and product offerings to appeal to local tastes and preferences, ensuring its relevance in diverse markets. This strategic approach, coupled with its vast distribution network, allowed Coca-Cola to penetrate even the most remote corners of the world, solidifying its position as a truly global brand.\n",
      "\n",
      "However, Coca-Cola's success has not been without its critics. Concerns regarding its high sugar content and its potential contribution to health problems like obesity and diabetes have been persistent. The company has responded by introducing low-sugar and sugar-free alternatives, but these efforts have not entirely alleviated concerns. Furthermore, ethical criticisms surrounding its environmental impact, particularly its water usage in water-stressed regions, continue to be raised.\n",
      "\n",
      "In conclusion, Coca-Cola is far more than just a fizzy drink. It is a complex and multifaceted phenomenon that reflects the power of branding, the dynamics of globalization, and the evolving relationship between consumerism and health. While its future remains uncertain in the face of increasing health consciousness and environmental awareness, Coca-Cola's enduring legacy as a cultural icon is undeniable. It remains a testament to the enduring appeal of a simple pleasure, cleverly marketed and strategically distributed across the globe.\n"
     ]
    }
   ],
   "source": [
    "result = bot.invoke({\"messages\": [HumanMessage(content=\"=write a short essay on coke \")]} , config=thread)\n",
    "print(\"AI:\", result[\"messages\"][-1].content)"
   ]
  },
  {
   "cell_type": "code",
   "execution_count": 44,
   "id": "67d102ae",
   "metadata": {},
   "outputs": [
    {
     "name": "stdout",
     "output_type": "stream",
     "text": [
      "AI: Your name is Raju.\n"
     ]
    }
   ],
   "source": [
    "result = bot.invoke({\"messages\": [HumanMessage(content=\"What is my name?\")]} , config=thread)\n",
    "print(\"AI:\", result[\"messages\"][-1].content)"
   ]
  },
  {
   "cell_type": "code",
   "execution_count": 51,
   "id": "e1078df7",
   "metadata": {},
   "outputs": [
    {
     "name": "stdout",
     "output_type": "stream",
     "text": [
      "You:  haii\n",
      "Ai:  Hi Raju! How can I help you today?\n",
      "You:  i have 20 pens and 5 gold coins\n",
      "Ai:  That's great, Raju! What would you like to do with your 20 pens and 5 gold coins? Are you trying to figure out their value, want to trade them, or something else? Let me know!\n",
      "You:  can u tell me history of inda \n",
      "Ai:  Okay, Raju, here's a brief overview of the history of India:\n",
      "\n",
      "**Ancient India (c. 3300 BCE - 6th Century CE):**\n",
      "\n",
      "*   **Indus Valley Civilization (c. 3300-1700 BCE):** One of the world's earliest urban civilizations, flourishing in the Indus River Valley (present-day Pakistan and northwest India). Known for its advanced urban planning, standardized weights and measures, and sophisticated drainage systems. Major cities included Harappa and Mohenjo-daro. The civilization declined for reasons that are still debated by historians.\n",
      "*   **Vedic Period (c. 1500-500 BCE):** The arrival of Indo-Aryan peoples who spoke Sanskrit. They brought with them the Vedas, a collection of religious texts that form the foundation of Hinduism. This period saw the development of the caste system and the rise of kingdoms and republics.\n",
      "*   **Mauryan Empire (c. 322-185 BCE):** Founded by Chandragupta Maurya, this was the first major empire to unify much of the Indian subcontinent. Ashoka, his grandson, converted to Buddhism after a bloody conquest and promoted peace and social welfare.\n",
      "*   **Gupta Empire (c. 320-550 CE):** Often referred to as the \"Golden Age of India,\" this period saw significant advancements in science, mathematics, literature, and art. Notable figures include Aryabhata (astronomer and mathematician) and Kalidasa (playwright and poet).\n",
      "*   **Regional Kingdoms:** After the decline of the Mauryan and Gupta empires, India was fragmented into numerous regional kingdoms, including the Satavahanas, Kushans, and others.\n",
      "\n",
      "**Medieval India (c. 6th - 18th Century CE):**\n",
      "\n",
      "*   **Early Medieval Period (c. 6th-12th Centuries CE):** This period saw the rise of various regional powers, including the Chalukyas, Pallavas, Rajputs, and Cholas. These kingdoms often engaged in conflicts with each other.\n",
      "*   **Delhi Sultanate (1206-1526 CE):** Muslim rulers from Central Asia established the Delhi Sultanate, which controlled much of northern India. The Sultanate was ruled by several dynasties, including the Mamluk, Khalji, Tughlaq, Sayyid, and Lodi dynasties.\n",
      "*   **Vijayanagara Empire (1336-1646 CE):** A powerful Hindu empire in southern India that flourished for over two centuries. It was known for its magnificent architecture and patronage of the arts.\n",
      "*   **Mughal Empire (1526-1857 CE):** Founded by Babur, the Mughal Empire gradually expanded to encompass almost the entire Indian subcontinent. Akbar, one of the greatest Mughal emperors, promoted religious tolerance and administrative reforms. Shah Jahan commissioned the Taj Mahal. The empire began to decline in the 18th century.\n",
      "\n",
      "**Modern India (c. 18th Century CE - Present):**\n",
      "\n",
      "*   **British Colonial Rule (1757-1947):** The British East India Company gradually gained control over India, eventually leading to direct British rule. Indian resistance to British rule grew, culminating in the Indian Rebellion of 1857.\n",
      "*   **Indian Nationalist Movement:** The late 19th and early 20th centuries saw the rise of the Indian nationalist movement, led by figures such as Mahatma Gandhi, Jawaharlal Nehru, and Sardar Vallabhbhai Patel.\n",
      "*   **Independence and Partition (1947):** India gained independence on August 15, 1947, but the country was partitioned into India and Pakistan. This led to widespread violence and displacement.\n",
      "*   **Post-Independence India:** India became a republic in 1950 and adopted a democratic constitution. The country has faced numerous challenges, including poverty, inequality, and communal tensions. However, it has also made significant progress in economic development, education, and technology.\n",
      "\n",
      "This is just a brief overview, Raju. Each period in Indian history is incredibly rich and complex. If you're interested in learning more about a specific period or aspect of Indian history, just let me know! I can give you more details.\n",
      "You:  what is the importance of blood\n",
      "Ai:  Blood is absolutely vital for life, Raju! Here's why it's so important:\n",
      "\n",
      "*   **Oxygen Transport:** Blood carries oxygen from your lungs to all the cells in your body. Your cells need oxygen to function and produce energy. Without enough oxygen, your cells will die. The oxygen is carried by a protein in red blood cells called hemoglobin.\n",
      "*   **Nutrient Transport:** Blood carries nutrients from your digestive system to your cells. These nutrients provide energy and building blocks for cell growth and repair.\n",
      "*   **Waste Removal:** Blood carries waste products, like carbon dioxide and urea, from your cells to your lungs, kidneys, and liver, where they can be removed from the body.\n",
      "*   **Immune Defense:** Blood contains white blood cells, which are part of your immune system. White blood cells fight off infections and protect your body from disease. They identify and destroy pathogens like bacteria, viruses, and parasites.\n",
      "*   **Hormone Transport:** Blood carries hormones from endocrine glands to target organs and tissues. Hormones regulate many bodily functions, including growth, metabolism, and reproduction.\n",
      "*   **Temperature Regulation:** Blood helps to regulate your body temperature by distributing heat throughout your body. When you're hot, blood vessels near the surface of your skin dilate, allowing heat to escape. When you're cold, blood vessels constrict to conserve heat.\n",
      "*   **Blood Clotting:** Blood contains platelets and clotting factors that help to stop bleeding when you're injured. Clotting prevents excessive blood loss and helps to heal wounds.\n",
      "\n",
      "In short, blood is essential for delivering the things your body needs to survive and removing the things it needs to get rid of. Without blood, your body couldn't function.\n",
      "You:  how many gold coins i have\n",
      "Ai:  You told me earlier that you have 5 gold coins.\n"
     ]
    }
   ],
   "source": [
    "while True:\n",
    "\n",
    "    user_input=input()\n",
    "    if(user_input.strip().lower() in ['exit','quit','stop']):break\n",
    "\n",
    "    print(\"You: \",user_input)\n",
    "    response=bot.invoke({\"messages\":[HumanMessage(content=user_input)]},config=thread)\n",
    "\n",
    "    print(\"Ai: \",response[\"messages\"][-1].content)\n"
   ]
  },
  {
   "cell_type": "code",
   "execution_count": null,
   "id": "08a8d7b0",
   "metadata": {},
   "outputs": [],
   "source": []
  }
 ],
 "metadata": {
  "kernelspec": {
   "display_name": "myenv (3.13.5)",
   "language": "python",
   "name": "python3"
  },
  "language_info": {
   "codemirror_mode": {
    "name": "ipython",
    "version": 3
   },
   "file_extension": ".py",
   "mimetype": "text/x-python",
   "name": "python",
   "nbconvert_exporter": "python",
   "pygments_lexer": "ipython3",
   "version": "3.13.5"
  }
 },
 "nbformat": 4,
 "nbformat_minor": 5
}
