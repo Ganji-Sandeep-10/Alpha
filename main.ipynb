{
 "cells": [
  {
   "cell_type": "code",
   "execution_count": 1,
   "id": "19048c64",
   "metadata": {},
   "outputs": [],
   "source": [
    "from langgraph.graph import StateGraph,START,END\n",
    "from langchain_google_genai import ChatGoogleGenerativeAI\n",
    "from typing import TypedDict\n",
    "from dotenv import load_dotenv"
   ]
  },
  {
   "cell_type": "code",
   "execution_count": 2,
   "id": "a929d535",
   "metadata": {},
   "outputs": [],
   "source": [
    "class chatState(TypedDict):\n",
    "\n",
    "    input:str\n",
    "    output:str"
   ]
  },
  {
   "cell_type": "code",
   "execution_count": 3,
   "id": "170ce2c4",
   "metadata": {},
   "outputs": [],
   "source": [
    "llm=ChatGoogleGenerativeAI(model=\"gemini-2.0-flash\")"
   ]
  },
  {
   "cell_type": "code",
   "execution_count": 4,
   "id": "e6f5982a",
   "metadata": {},
   "outputs": [],
   "source": [
    "def call_llm(state:chatState):\n",
    "    response=llm.invoke(state['input'])\n",
    "\n",
    "    return {'output':response.content}"
   ]
  },
  {
   "cell_type": "code",
   "execution_count": 5,
   "id": "26ca6b53",
   "metadata": {},
   "outputs": [],
   "source": [
    "graph=StateGraph(chatState)\n",
    "\n",
    "graph.add_node('call_llm',call_llm)\n",
    "\n",
    "graph.add_edge(START,'call_llm')\n",
    "graph.add_edge('call_llm',END)\n",
    "\n",
    "bot=graph.compile()"
   ]
  },
  {
   "cell_type": "code",
   "execution_count": 6,
   "id": "badc579e",
   "metadata": {},
   "outputs": [],
   "source": [
    "user_query='what is Pneumonoultramicroscopicsilicovolcanoconiosis ?'\n",
    "initial_state={'input':user_query}\n",
    "\n",
    "result=bot.invoke(initial_state)\n"
   ]
  },
  {
   "cell_type": "code",
   "execution_count": 7,
   "id": "ac3472eb",
   "metadata": {},
   "outputs": [
    {
     "name": "stdout",
     "output_type": "stream",
     "text": [
      "what is Pneumonoultramicroscopicsilicovolcanoconiosis ?\n"
     ]
    }
   ],
   "source": [
    "print(result['input'])"
   ]
  },
  {
   "cell_type": "code",
   "execution_count": 8,
   "id": "d162d919",
   "metadata": {},
   "outputs": [
    {
     "name": "stdout",
     "output_type": "stream",
     "text": [
      "Pneumonoultramicroscopicsilicovolcanoconiosis is a lung disease caused by the inhalation of very fine silica or quartz dust, typically found in volcanoes. It's considered the longest word in the English language to appear in a major dictionary.\n"
     ]
    }
   ],
   "source": [
    "print(result['output'])"
   ]
  }
 ],
 "metadata": {
  "kernelspec": {
   "display_name": "myenv (3.13.5)",
   "language": "python",
   "name": "python3"
  },
  "language_info": {
   "codemirror_mode": {
    "name": "ipython",
    "version": 3
   },
   "file_extension": ".py",
   "mimetype": "text/x-python",
   "name": "python",
   "nbconvert_exporter": "python",
   "pygments_lexer": "ipython3",
   "version": "3.13.5"
  }
 },
 "nbformat": 4,
 "nbformat_minor": 5
}
